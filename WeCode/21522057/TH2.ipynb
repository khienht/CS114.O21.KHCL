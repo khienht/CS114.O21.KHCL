{
  "nbformat": 4,
  "nbformat_minor": 0,
  "metadata": {
    "colab": {
      "provenance": []
    },
    "kernelspec": {
      "name": "python3",
      "display_name": "Python 3"
    },
    "language_info": {
      "name": "python"
    }
  },
  "cells": [
    {
      "cell_type": "markdown",
      "source": [
        "# **dịch rìa**"
      ],
      "metadata": {
        "id": "DXNSm5ZqGA1m"
      }
    },
    {
      "cell_type": "code",
      "source": [
        "from re import A\n",
        "def dich_ria(arr):\n",
        "    rows = len(arr)\n",
        "    cols = len(arr[0])\n",
        "\n",
        "    for i in range((min(rows, cols) + 1) // 2):\n",
        "        ria = []\n",
        "        for j in range(i, cols - i):\n",
        "            ria.append(arr[i][j])\n",
        "        for j in range(i + 1, rows - i - 1):\n",
        "            ria.append(arr[j][cols - i - 1])\n",
        "        for j in range(cols - i - 1, i - 1, -1):\n",
        "            ria.append(arr[rows - i - 1][j])\n",
        "        for j in range(rows - i - 2, i, -1):\n",
        "            ria.append(arr[j][i])\n",
        "\n",
        "        if i % 2 == 0:\n",
        "            ria = [ria[-1]] + ria[:-1]\n",
        "        else:\n",
        "            ria = ria[1:] + [ria[0]]\n",
        "\n",
        "        index = 0\n",
        "        for j in range(i, cols - i):\n",
        "            arr[i][j] = ria[index]\n",
        "            index += 1\n",
        "        for j in range(i + 1, rows - i - 1):\n",
        "            arr[j][cols - i - 1] = ria[index]\n",
        "            index += 1\n",
        "        for j in range(cols - i - 1, i - 1, -1):\n",
        "            arr[rows - i - 1][j] = ria[index]\n",
        "            index += 1\n",
        "        for j in range(rows - i - 2, i, -1):\n",
        "            arr[j][i] = ria[index]\n",
        "            index += 1\n",
        "\n",
        "r, c = map(int, input().split())\n",
        "arr = []\n",
        "for _ in range(r):\n",
        "    row = list(map(int, input().split()))\n",
        "    arr.append(row)\n",
        "if c == 1:\n",
        "  a =[]\n",
        "  a.append(arr[r-1][0])\n",
        "  for x in range(r):\n",
        "    a.append(arr[x][0])\n",
        "  for i in range(r):\n",
        "    arr[i][0] = a[i]\n",
        "else:\n",
        "  dich_ria(arr)\n",
        "\n",
        "for row in arr:\n",
        "    print(*row)"
      ],
      "metadata": {
        "colab": {
          "base_uri": "https://localhost:8080/"
        },
        "id": "_m-6dI0BGAP6",
        "outputId": "e9ac8245-c1c2-4488-b4c6-ff02b28e3f8f"
      },
      "execution_count": null,
      "outputs": [
        {
          "output_type": "stream",
          "name": "stdout",
          "text": [
            "8 1\n",
            "238\n",
            "239\n",
            "240\n",
            "241\n",
            "242\n",
            "243\n",
            "244\n",
            "245\n",
            "245\n",
            "238\n",
            "239\n",
            "240\n",
            "241\n",
            "242\n",
            "243\n",
            "244\n"
          ]
        }
      ]
    },
    {
      "cell_type": "markdown",
      "source": [
        "# **đối xứng dọc**"
      ],
      "metadata": {
        "id": "LUn2udJiHx54"
      }
    },
    {
      "cell_type": "code",
      "source": [
        "r, c = map(int, input().split())\n",
        "mat = [list(map(int, input().split())) for _ in range(r)]\n",
        "new = [[0 for _ in range(c)] for _ in range(r)]\n",
        "for i in range(r):\n",
        "  for j in range(c):\n",
        "    new[r-i-1][j] = mat[i][j]\n",
        "for row in new:\n",
        "    print(*row)"
      ],
      "metadata": {
        "colab": {
          "base_uri": "https://localhost:8080/"
        },
        "id": "El6UCbPMH3XS",
        "outputId": "e60f7b77-022e-4c8f-e13b-a5b346c80723"
      },
      "execution_count": null,
      "outputs": [
        {
          "output_type": "stream",
          "name": "stdout",
          "text": [
            "5 5\n",
            "28913 26846 85 19649 8524\n",
            "7970 31692 11666 2213 6747\n",
            "22640 18740 30793 9860 15977\n",
            "24997 18366 18071 8766 20104\n",
            "18223 27172 2671 101 2170\n",
            "18223 27172 2671 101 2170\n",
            "24997 18366 18071 8766 20104\n",
            "22640 18740 30793 9860 15977\n",
            "7970 31692 11666 2213 6747\n",
            "28913 26846 85 19649 8524\n"
          ]
        }
      ]
    },
    {
      "cell_type": "markdown",
      "source": [
        "# **mảng lề phải**"
      ],
      "metadata": {
        "id": "aHBcwzqhJZ08"
      }
    },
    {
      "cell_type": "code",
      "source": [
        "r, c = map(int, input().split())\n",
        "matrix = [list(map(int, input().split())) for _ in range(r)]\n",
        "max_len = [0] * len(matrix[0])\n",
        "\n",
        "for row in matrix:\n",
        "  for i, num in enumerate(row):\n",
        "    num_len = len(str(num))\n",
        "    if num_len > max_len[i]:\n",
        "      max_len[i] = num_len\n",
        "for row in matrix:\n",
        "  for i, num in enumerate(row):\n",
        "    print(\" \" * (max_len[i] - len(str(num))), end=\"\") #number of space before print num to align right\n",
        "    print(num, end=\" \")\n",
        "  print()\n"
      ],
      "metadata": {
        "id": "GobvmgiCJcXh"
      },
      "execution_count": null,
      "outputs": []
    },
    {
      "cell_type": "markdown",
      "source": [
        "# **Chu vi đường biên**"
      ],
      "metadata": {
        "id": "O5JeZkHJWUR0"
      }
    },
    {
      "cell_type": "code",
      "source": [
        "def boundary(m, n, matrix):\n",
        "    length = 0\n",
        "\n",
        "    for i in range(m):\n",
        "        for j in range(n):\n",
        "            if matrix[i][j] == 1:\n",
        "                if i == 0 or matrix[i-1][j] == 0:\n",
        "                    length += 1  # above\n",
        "                if i == m - 1 or matrix[i+1][j] == 0:\n",
        "                    length += 1  # underneath\n",
        "                if j == 0 or matrix[i][j-1] == 0:\n",
        "                    length += 1  # left\n",
        "                if j == n - 1 or matrix[i][j+1] == 0:\n",
        "                    length += 1  # right\n",
        "\n",
        "    return length\n",
        "\n",
        "m, n = map(int, input().split())\n",
        "matrix = []\n",
        "for _ in range(m):\n",
        "    row = list(map(int, input().split()))\n",
        "    matrix.append(row)\n",
        "\n",
        "print(boundary(m, n, matrix))\n",
        "\n"
      ],
      "metadata": {
        "colab": {
          "base_uri": "https://localhost:8080/"
        },
        "id": "p1qyc_i3WuG6",
        "outputId": "0ca33773-32b6-4f4b-8a7e-1cd960ccf8bb"
      },
      "execution_count": null,
      "outputs": [
        {
          "output_type": "stream",
          "name": "stdout",
          "text": [
            "3 3\n",
            "0 1 1\n",
            "1 1 0\n",
            "1 0 0 \n",
            "12\n"
          ]
        }
      ]
    },
    {
      "cell_type": "markdown",
      "source": [
        "# **Đếm sao**"
      ],
      "metadata": {
        "id": "W3yPk-6YAP8Q"
      }
    },
    {
      "cell_type": "code",
      "source": [
        "def count_stars(m, n, image):\n",
        "    count = 0\n",
        "\n",
        "    for i in range(m):\n",
        "        for j in range(n):\n",
        "            if image[i][j] == '-':\n",
        "                count += 1\n",
        "                mark_star(image, m, n, i, j)\n",
        "\n",
        "    return count\n",
        "\n",
        "\n",
        "def mark_star(image, m, n, i, j):\n",
        "    if i < 0 or i >= m or j < 0 or j >= n or image[i][j] == '#':\n",
        "      return\n",
        "\n",
        "    image[i][j] = '#'\n",
        "\n",
        "    mark_star(image, m, n, i + 1, j)\n",
        "    mark_star(image, m, n, i - 1, j)\n",
        "    mark_star(image, m, n, i, j + 1)\n",
        "    mark_star(image, m, n, i, j - 1)\n",
        "\n",
        "test_case = 1\n",
        "while True:\n",
        "    try:\n",
        "        m, n = map(int, input().split())\n",
        "        if m == 0 and n == 0:\n",
        "            break\n",
        "\n",
        "        image = [list(input()) for _ in range(m)]\n",
        "\n",
        "        result = count_stars(m, n, image)\n",
        "        print(f\"Case {test_case}: {result}\")\n",
        "\n",
        "        test_case += 1\n",
        "    except EOFError:\n",
        "        break\n",
        "\n",
        "\n"
      ],
      "metadata": {
        "colab": {
          "base_uri": "https://localhost:8080/"
        },
        "id": "9WBeIzK8aD1n",
        "outputId": "096c972c-6376-47ab-9ce4-c5dc5b1d3d2a"
      },
      "execution_count": null,
      "outputs": [
        {
          "name": "stdout",
          "output_type": "stream",
          "text": [
            "2 4\n",
            "#---\n",
            "##--\n",
            "Case 1: 1\n",
            "0 0\n"
          ]
        }
      ]
    },
    {
      "cell_type": "markdown",
      "source": [
        "# **make array consecutive again**"
      ],
      "metadata": {
        "id": "pbV-Y50x73Vo"
      }
    },
    {
      "cell_type": "code",
      "source": [
        "n = int(input())\n",
        "a=set()\n",
        "for _ in range(n):\n",
        "  a.add(int(input()))\n",
        "min_num = min(a)\n",
        "max_num = max(a)\n",
        "count=0\n",
        "for i in range (min_num+1, max_num):\n",
        "  if i not in a:\n",
        "    count += 1\n",
        "print(count)\n"
      ],
      "metadata": {
        "id": "bfG1WnH676AF"
      },
      "execution_count": null,
      "outputs": []
    },
    {
      "cell_type": "markdown",
      "source": [
        "# **Con đò**"
      ],
      "metadata": {
        "id": "XEHvYJ5596Pm"
      }
    },
    {
      "cell_type": "code",
      "source": [
        "l, m = map(int, input().split())\n",
        "len = l*100\n",
        "cars = [input() for _ in range(m)]\n",
        "left = []\n",
        "right = []\n",
        "\n",
        "for car in cars:\n",
        "    length, pos = car.split()\n",
        "    if pos == \"left\":\n",
        "        left.append(int(length))\n",
        "    else:\n",
        "        right.append(int(length))\n",
        "\n",
        "counts=0\n",
        "current_side = \"left\"\n",
        "while left or right:\n",
        "    if current_side == \"left\":\n",
        "        total = 0\n",
        "        while left and total + left[0] <= len:\n",
        "            total += left.pop(0)\n",
        "        counts += 1\n",
        "        current_side = \"right\"\n",
        "    else:\n",
        "        total = 0\n",
        "        while right and total + right[0] <= len:\n",
        "            total += right.pop(0)\n",
        "        counts += 1\n",
        "        current_side = \"left\"\n",
        "\n",
        "print(counts)\n"
      ],
      "metadata": {
        "colab": {
          "base_uri": "https://localhost:8080/"
        },
        "id": "Et5rkHYh1WBA",
        "outputId": "5b14c334-a9f3-4193-b39a-13b4876cdeae"
      },
      "execution_count": null,
      "outputs": [
        {
          "output_type": "stream",
          "name": "stdout",
          "text": [
            "15 4\n",
            "380 right\n",
            "720 right\n",
            "1340 right\n",
            "1040 right\n",
            "[] [380, 720, 1340, 1040]\n",
            "6\n"
          ]
        }
      ]
    },
    {
      "cell_type": "markdown",
      "source": [
        "# **Mảng xém đối xứng**"
      ],
      "metadata": {
        "id": "hnseXDE_MggY"
      }
    },
    {
      "cell_type": "code",
      "source": [
        "def mang_dx(n, arr):\n",
        "  mid = (len(arr) + 1) // 2\n",
        "  count=0\n",
        "  for i in range(mid):\n",
        "    if arr[i] != arr[n - i - 1] :\n",
        "      count+=1\n",
        "  if count<=1:\n",
        "    return True\n",
        "  return False\n",
        "\n",
        "n = int(input())\n",
        "arr = [int(input()) for _ in range(n)]\n",
        "\n",
        "if mang_dx(n, arr):\n",
        "  print(\"TRUE\")\n",
        "else:\n",
        "  print(\"FALSE\")\n"
      ],
      "metadata": {
        "id": "LHrY7nE5Mj-c"
      },
      "execution_count": null,
      "outputs": []
    },
    {
      "cell_type": "markdown",
      "source": [
        "# **Count right turns in a list of points**"
      ],
      "metadata": {
        "id": "5wU9TLQKg5SX"
      }
    },
    {
      "cell_type": "code",
      "source": [
        "def count_right_turns(n, points):\n",
        "    right_turns = 0\n",
        "    for i in range(1, n - 1):\n",
        "        x1, y1 = points[i - 1]\n",
        "        x2, y2 = points[i]\n",
        "        x3, y3 = points[i + 1]\n",
        "\n",
        "        cross_product = (x2 - x1) * (y3 - y2) - (y2 - y1) * (x3 - x2)\n",
        "        print(cross_product)\n",
        "        if cross_product < 0:\n",
        "            right_turns += 1\n",
        "    return right_turns\n",
        "\n",
        "n = int(input())\n",
        "points = [tuple(map(int, input().split())) for _ in range(n)]\n",
        "\n",
        "print(count_right_turns(n, points))\n"
      ],
      "metadata": {
        "id": "m-BeOALAENrk"
      },
      "execution_count": null,
      "outputs": []
    },
    {
      "cell_type": "markdown",
      "source": [
        "# **bristle back quill spray**"
      ],
      "metadata": {
        "id": "tuSwrSetFuP7"
      }
    },
    {
      "cell_type": "code",
      "source": [
        "def check_time(queue, target):\n",
        "  extra_kill =0\n",
        "  to_remove = []\n",
        "\n",
        "  for i in range(len(queue)):\n",
        "    if queue[i] < target:\n",
        "        to_remove.append(i)\n",
        "    elif queue[i] == target:\n",
        "        to_remove.append(i)\n",
        "        extra_kill += y\n",
        "    else:\n",
        "        extra_kill += y\n",
        "\n",
        "  for i in reversed(to_remove):\n",
        "        queue.pop(i)\n",
        "\n",
        "  return extra_kill\n",
        "\n",
        "n = int(input())\n",
        "times = [float(x) for x in input().split()]\n",
        "x = int(input())  #basic kill\n",
        "y = int(input())  #extra kill\n",
        "z = float(input())  #time disappear\n",
        "\n",
        "res = x\n",
        "queue = []\n",
        "queue.append(times[0]+z)\n",
        "\n",
        "for i in range(1, n):\n",
        "  res += x + check_time(queue, times[i])\n",
        "  queue.append(times[i]+z)\n",
        "\n",
        "print(res)"
      ],
      "metadata": {
        "id": "qeZQKX1SFveN",
        "colab": {
          "base_uri": "https://localhost:8080/"
        },
        "outputId": "0d41a974-19ba-466d-da34-a89cca722b82"
      },
      "execution_count": null,
      "outputs": [
        {
          "output_type": "stream",
          "name": "stdout",
          "text": [
            "2\n",
            "10 100\n",
            "65\n",
            "51\n",
            "15.0\n",
            "130\n"
          ]
        }
      ]
    }
  ]
}