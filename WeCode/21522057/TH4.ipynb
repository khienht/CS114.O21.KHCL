{
  "nbformat": 4,
  "nbformat_minor": 0,
  "metadata": {
    "colab": {
      "provenance": [],
      "collapsed_sections": [
        "ix71R14WkZg2",
        "vbgD4DMq2K0I"
      ]
    },
    "kernelspec": {
      "name": "python3",
      "display_name": "Python 3"
    },
    "language_info": {
      "name": "python"
    }
  },
  "cells": [
    {
      "cell_type": "markdown",
      "source": [
        "# **down heap**"
      ],
      "metadata": {
        "id": "ix71R14WkZg2"
      }
    },
    {
      "cell_type": "code",
      "source": [
        "import heapq, io, os\n",
        "input = io.BytesIO(os.read(0,os.fstat(0).st_size)).readline\n",
        "n, m = [int(num) for num in input().decode().split()]\n",
        "heap = []\n",
        "for i in range(n):\n",
        "    heap.append(- int(input().decode().split()[0]))\n",
        "\n",
        "heapq.heapify(heap)\n",
        "\n",
        "for i in range(m):\n",
        "  a = [int(op) for op in input().decode().split()]\n",
        "\n",
        "  if a[0] == -1:\n",
        "    if len(heap) == 0:\n",
        "      continue\n",
        "    heapq.heappop(heap)\n",
        "  elif a[0] == -2:\n",
        "    if len(heap) == 0:\n",
        "      continue\n",
        "    max = heapq.heappop(heap)\n",
        "    while len(heap) != 0 and heap[0] == max:\n",
        "      heapq.heappop(heap)\n",
        "  elif a[0] == -3:\n",
        "    if len(heap) == 0:\n",
        "      continue\n",
        "    heapq.heapreplace(heap, heap[0] + a[1])\n",
        "  else:\n",
        "    if len(heap) == 0:\n",
        "      continue\n",
        "    max = heap[0]\n",
        "    while len(heap) != 0 and heap[0] == max:\n",
        "      heapq.heapreplace(heap, heap[0] + a[1])\n",
        "\n",
        "while len(heap) != 0:\n",
        "  print(-heap[0])\n",
        "  heapq.heappop(heap)"
      ],
      "metadata": {
        "id": "wkwWPt92kbtt"
      },
      "execution_count": null,
      "outputs": []
    },
    {
      "cell_type": "code",
      "source": [
        "! python ex.py < test.txt"
      ],
      "metadata": {
        "id": "7x6ZvmEU1a6O"
      },
      "execution_count": null,
      "outputs": []
    },
    {
      "cell_type": "markdown",
      "source": [
        "# online sorting"
      ],
      "metadata": {
        "id": "vbgD4DMq2K0I"
      }
    },
    {
      "cell_type": "code",
      "execution_count": null,
      "metadata": {
        "id": "9fWVz9Vq2DKR"
      },
      "outputs": [],
      "source": [
        "import heapq, io, os, bisect\n",
        "input = io.BytesIO(os.read(0,os.fstat(0).st_size)).readline\n",
        "\n",
        "\n",
        "\n",
        "#https://www.geeksforgeeks.org/tree-sort/\n",
        "class Node:\n",
        "\n",
        "  def __init__(self,item = 0):\n",
        "    self.key = item\n",
        "    self.left,self.right = None,None\n",
        "\n",
        "# Root of BST\n",
        "root = Node()\n",
        "root = None\n",
        "\n",
        "# This method mainly\n",
        "# calls insertRec()\n",
        "def insert(key):\n",
        "    global root\n",
        "    root = insertRec(root, key)\n",
        "\n",
        "# A recursive function to\n",
        "# insert a new key in BST\n",
        "def insertRec(root, key):\n",
        "\n",
        "  # If the tree is empty,\n",
        "  # return a new node\n",
        "\n",
        "    if (root == None):\n",
        "        root = Node(key)\n",
        "        return root\n",
        "\n",
        "  # Otherwise, recur\n",
        "  # down the tree\n",
        "    if (key < root.key):\n",
        "        root.left = insertRec(root.left, key)\n",
        "    elif (key > root.key):\n",
        "        root.right = insertRec(root.right, key)\n",
        "\n",
        "  # return the root\n",
        "    return root\n",
        "\n",
        "# A function to do\n",
        "# inorder traversal of BST\n",
        "def inorderRec(root, x, ord):\n",
        "    if (root != None):\n",
        "        t = inorderRec(root.left, x, ord)\n",
        "        if (t != None):\n",
        "            return t\n",
        "        ord += 1\n",
        "        if (root.key == x):\n",
        "            return ord\n",
        "        t = inorderRec(root.right, x, ord)\n",
        "        if (t != None):\n",
        "            return t\n",
        "    return None\n",
        "\n",
        "def iR(root):\n",
        "  if (root != None):\n",
        "    iR(root.left)\n",
        "    print(root.key ,end = \" \")\n",
        "    iR(root.right)\n",
        "\n",
        "\n",
        "\n",
        "cmd = list(int(num) for num in input().decode().split())\n",
        "cnt = 0\n",
        "while cmd[0] != 0:\n",
        "    if (cmd[0] == 1):\n",
        "        insert(cmd[1])\n",
        "        #print('i', root.key)\n",
        "        cnt += 1\n",
        "    else:\n",
        "        #iR(root)\n",
        "        #print()\n",
        "        t = inorderRec(root, cmd[1], 0)\n",
        "        if (t == None):\n",
        "            print(0)\n",
        "        else:\n",
        "            print(t)\n",
        "    cmd = [int(num) for num in input().decode().split()]\n",
        "\n",
        "\n"
      ]
    },
    {
      "cell_type": "code",
      "source": [
        "! python ex.py < test.txt"
      ],
      "metadata": {
        "id": "GV4V06Us8-1c",
        "colab": {
          "base_uri": "https://localhost:8080/"
        },
        "outputId": "6cf2da8b-f7e2-49c4-ada5-3f7bb8a86202"
      },
      "execution_count": null,
      "outputs": [
        {
          "output_type": "stream",
          "name": "stdout",
          "text": [
            "0\n",
            "1\n"
          ]
        }
      ]
    },
    {
      "cell_type": "markdown",
      "source": [
        "# Thêm vào danh sách"
      ],
      "metadata": {
        "id": "WXSnrd9u4FLj"
      }
    },
    {
      "cell_type": "code",
      "source": [
        "import io, os\n",
        "from collections import deque\n",
        "\n",
        "res = deque()\n",
        "arr = {}\n",
        "input = io.BytesIO(os.read(0, os.fstat(0).st_size)).readline\n",
        "\n",
        "while True:\n",
        "    a = [int(op) for op in input().decode().split()]\n",
        "\n",
        "    # end\n",
        "    if len(a) == 1:\n",
        "        print(*res)\n",
        "        break\n",
        "\n",
        "    # add front\n",
        "    if a[0] == 0:\n",
        "        res.appendleft(a[1])\n",
        "        arr[a[1]] = arr.get(a[1], 1)\n",
        "\n",
        "    # add back\n",
        "    elif a[0] == 1:\n",
        "        res.append(a[1])\n",
        "        arr[a[1]] = arr.get(a[1], 1)\n",
        "\n",
        "    # add b behind a\n",
        "    elif a[0] == 2:\n",
        "        if arr.get(a[1], 0) != 0:\n",
        "            idx = res.index(a[1]) + 1\n",
        "        else:\n",
        "            idx = 0\n",
        "        res.insert(idx, a[2])\n",
        "        arr[a[2]] = 1"
      ],
      "metadata": {
        "id": "wAlOjhXGAwMs"
      },
      "execution_count": null,
      "outputs": []
    },
    {
      "cell_type": "code",
      "source": [
        "! python ex.py < test.txt"
      ],
      "metadata": {
        "colab": {
          "base_uri": "https://localhost:8080/"
        },
        "id": "NtanibJx9Iyr",
        "outputId": "40f5ad8e-448c-4f1b-94f2-a9bec0b385c4"
      },
      "execution_count": null,
      "outputs": [
        {
          "output_type": "stream",
          "name": "stdout",
          "text": [
            "0 9 2 1 5 0 3 3 5 6 6 0 1 7\n"
          ]
        }
      ]
    },
    {
      "cell_type": "markdown",
      "source": [
        "# Thêm và xóa"
      ],
      "metadata": {
        "id": "AsgkMaWy7fQl"
      }
    },
    {
      "cell_type": "code",
      "source": [
        "! python ex.py < test.txt"
      ],
      "metadata": {
        "id": "MuavNPZMa6yi",
        "outputId": "03530738-1088-4ce4-c403-8bfe2b7569ab",
        "colab": {
          "base_uri": "https://localhost:8080/"
        }
      },
      "execution_count": null,
      "outputs": [
        {
          "output_type": "stream",
          "name": "stdout",
          "text": [
            "3 6 9 1 3 7 9 1\n"
          ]
        }
      ]
    },
    {
      "cell_type": "code",
      "source": [
        "import io\n",
        "import os\n",
        "from collections import deque\n",
        "\n",
        "res = deque()\n",
        "input_data = io.BytesIO(os.read(0, os.fstat(0).st_size)).readline\n",
        "\n",
        "while True:\n",
        "    try:\n",
        "        line = input_data().decode().strip()\n",
        "        op, *args = map(int, line.split())\n",
        "\n",
        "        if op == 0:\n",
        "            res.appendleft(args[0])\n",
        "        elif op == 1:\n",
        "            res.append(args[0])\n",
        "        elif op == 2:\n",
        "            a, b = args\n",
        "            if a in res:\n",
        "                res.insert(res.index(a) + 1, b)\n",
        "            else:\n",
        "                res.appendleft(b)\n",
        "        elif op == 3:\n",
        "            n = args[0]\n",
        "            if n in res:\n",
        "                res.remove(n)\n",
        "        elif op == 5:\n",
        "            if res:\n",
        "                res.popleft()\n",
        "        elif op == 6:\n",
        "            break\n",
        "\n",
        "    except Exception as e:\n",
        "        print(e)\n",
        "\n",
        "if res:\n",
        "    print(*res)\n",
        "else:\n",
        "    print(\"blank\")\n"
      ],
      "metadata": {
        "id": "jZoaIUsaIO7b"
      },
      "execution_count": null,
      "outputs": []
    },
    {
      "cell_type": "code",
      "source": [
        "! python ex.py < test.txt"
      ],
      "metadata": {
        "colab": {
          "base_uri": "https://localhost:8080/"
        },
        "id": "-K-GebK9Ii_S",
        "outputId": "4e28e136-5551-460a-f53e-af0fc9f1ebe3"
      },
      "execution_count": null,
      "outputs": [
        {
          "output_type": "stream",
          "name": "stdout",
          "text": [
            "3 6 9 1 3 7 9 1\n"
          ]
        }
      ]
    }
  ]
}