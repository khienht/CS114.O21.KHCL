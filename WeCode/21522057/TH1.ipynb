{
  "nbformat": 4,
  "nbformat_minor": 0,
  "metadata": {
    "colab": {
      "provenance": []
    },
    "kernelspec": {
      "name": "python3",
      "display_name": "Python 3"
    },
    "language_info": {
      "name": "python"
    }
  },
  "cells": [
    {
      "cell_type": "markdown",
      "source": [
        "# **Thử tô màu**"
      ],
      "metadata": {
        "id": "dNiLwjdd0e_a"
      }
    },
    {
      "cell_type": "code",
      "source": [
        "def check(H, W, K, table):\n",
        "  black=0\n",
        "  for row in range(H):\n",
        "      for col in range(W):\n",
        "        if (table[row][col]=='#'):\n",
        "          black += 1\n",
        "  if black == K:\n",
        "    return 1\n",
        "  elif black > K and all(element == '#' for row in table for element in row):\n",
        "    return 0\n",
        "  else:\n",
        "      return 2\n",
        "def count(H, W, K, table):\n",
        "    total = 0\n",
        "    if check(H, W, K, table) < 2:\n",
        "      total = check(H, W, K, table)\n",
        "      return total\n",
        "    for row in range(1 << H): #2^H cach chon hang\n",
        "        for col in range(1 << W):\n",
        "            black = 0\n",
        "            for i in range(H):\n",
        "                for j in range(W):\n",
        "                    if (row >> i) & 1 or (col >> j) & 1:\n",
        "                        if table[i][j] == '#':\n",
        "                            black += 1\n",
        "\n",
        "            if black == K:\n",
        "                total += 1\n",
        "\n",
        "    return total\n",
        "\n",
        "H, W, K = map(int, input().split())\n",
        "table = [input() for _ in range(H)]\n",
        "\n",
        "print(count(H, W, K, table))"
      ],
      "metadata": {
        "id": "wD5qbiOH0adL"
      },
      "execution_count": null,
      "outputs": []
    },
    {
      "cell_type": "markdown",
      "source": [
        "# **Lô Tô**"
      ],
      "metadata": {
        "id": "VSRLnV91Iik0"
      }
    },
    {
      "cell_type": "code",
      "source": [
        "def check(table):\n",
        "    for row in table:\n",
        "        if all(cell == 1 for cell in row): #hàng\n",
        "            return True\n",
        "    for col in range(3):\n",
        "        if all(table[row][col] == 1 for row in range(3)): #cột\n",
        "            return True\n",
        "    if all(table[i][i] == 1 for i in range(3)) or all(table[i][2-i] == 1 for i in range(3)): #đường chéo\n",
        "        return True\n",
        "    return False\n",
        "\n",
        "table = [list(map(int, input().split())) for _ in range(3)]\n",
        "N = int(input())\n",
        "\n",
        "marked_tbl = [[0] * 3 for _ in range(3)]\n",
        "\n",
        "for _ in range(N):\n",
        "    num = int(input())\n",
        "    for i in range(3):\n",
        "        for j in range(3):\n",
        "            if table[i][j] == num:\n",
        "                marked_tbl[i][j] = 1\n",
        "\n",
        "if check(marked_tbl):\n",
        "    print(\"Yes\")\n",
        "else:\n",
        "    print(\"No\")"
      ],
      "metadata": {
        "id": "Og5Acl70Ajgf"
      },
      "execution_count": null,
      "outputs": []
    },
    {
      "cell_type": "markdown",
      "source": [
        "# **Trạm ga**"
      ],
      "metadata": {
        "id": "eFyRUqDmIpCR"
      }
    },
    {
      "cell_type": "code",
      "source": [
        "table = [list(map(str, input())) for _ in range(2)]\n",
        "if (table[0][0] == '#' and table[1][0] == '#') or (table[0][0] == '#' and table[0][1] == '#') or (table[0][1] == '#' and table[1][1] == '#') or (table[1][1] == '#' and table[1][0] == '#'):\n",
        "  print(\"Yes\")\n",
        "else:\n",
        "  print(\"No\")"
      ],
      "metadata": {
        "colab": {
          "base_uri": "https://localhost:8080/"
        },
        "id": "xgCF5_eJEl7n",
        "outputId": "5c8f7dfe-5fb6-4671-9e5e-023fce68b11a"
      },
      "execution_count": null,
      "outputs": [
        {
          "output_type": "stream",
          "name": "stdout",
          "text": [
            "##\n",
            "#.\n",
            "Yes\n"
          ]
        }
      ]
    },
    {
      "cell_type": "markdown",
      "source": [
        "# **Cặp mã khóa**"
      ],
      "metadata": {
        "id": "18o0xSMoNq3C"
      }
    },
    {
      "cell_type": "code",
      "source": [
        "import math\n",
        "def check_special(num):\n",
        "  if num <= 1:\n",
        "    return True\n",
        "  for i in range(2, int(num**0.5)+1):\n",
        "    if num % (i*i) == 0:\n",
        "      return False\n",
        "  return True\n",
        "\n",
        "L, R = map(int, input().split())\n",
        "result = 0\n",
        "\n",
        "num = [i for i in range(L, R+1) if check_special(i)]\n",
        "\n",
        "for i in range(len(num)):\n",
        "  for j in range(i+1, len(num)):\n",
        "    check = num[i] * num[j]\n",
        "    if check_special(check):\n",
        "      result += 1\n",
        "\n",
        "print(result)"
      ],
      "metadata": {
        "colab": {
          "base_uri": "https://localhost:8080/"
        },
        "id": "ANYX0_jJXxtl",
        "outputId": "399c3578-d82c-4356-b35c-6edc93a84a16"
      },
      "execution_count": null,
      "outputs": [
        {
          "output_type": "stream",
          "name": "stdout",
          "text": [
            "3 9\n",
            "[3, 5, 6, 7]\n",
            "5\n"
          ]
        }
      ]
    },
    {
      "cell_type": "code",
      "source": [
        "import math\n",
        "\n",
        "def sieve_of_special_numbers(n):\n",
        "    special = [True] * (n+1)\n",
        "    special[0] = special[1] = False\n",
        "    p = 2\n",
        "    while (p * p <= n):\n",
        "        if special[p] == True:\n",
        "            for i in range(p * p, n+1, p):\n",
        "                special[i] = False\n",
        "        p += 1\n",
        "    return [i for i in range(n+1) if special[i]]\n",
        "\n",
        "def count_strong_key_pairs(L, R):\n",
        "    special_numbers = sieve_of_special_numbers(R)\n",
        "    strong_pairs = 0\n",
        "    for i in range(len(special_numbers)):\n",
        "        for j in range(i+1, len(special_numbers)):\n",
        "            if special_numbers[i] * special_numbers[j] <= R and special_numbers[i] * special_numbers[j] >= L:\n",
        "                strong_pairs += 1\n",
        "    return strong_pairs\n",
        "\n",
        "# Nhập đầu vào\n",
        "L, R = map(int, input().split())\n",
        "\n",
        "# Tính và in ra số cặp khóa mạnh\n",
        "print(count_strong_key_pairs(L, R))\n",
        "\n",
        "\n"
      ],
      "metadata": {
        "colab": {
          "base_uri": "https://localhost:8080/"
        },
        "id": "UTBi6Co-rP0d",
        "outputId": "dba61e99-78d0-410d-8d7e-7693f4257934"
      },
      "execution_count": null,
      "outputs": [
        {
          "output_type": "stream",
          "name": "stdout",
          "text": [
            "3 9\n",
            "1\n"
          ]
        }
      ]
    },
    {
      "cell_type": "markdown",
      "source": [
        "# **Tìm hình vuông khi biết 1 cạnh**"
      ],
      "metadata": {
        "id": "5eP7IDq-a7kY"
      }
    },
    {
      "cell_type": "code",
      "source": [
        "def square_coordinates(A, B):\n",
        "    squares = []\n",
        "    x1, y1 = A\n",
        "    x2, y2 = B\n",
        "\n",
        "    dx = x2 - x1\n",
        "    dy = y2 - y1\n",
        "\n",
        "    C1 = (x1 + dy, y1 - dx)\n",
        "    D1 = (x2 + dy, y2 - dx)\n",
        "    C2 = (x1 - dy, y1 + dx)\n",
        "    D2 = (x2 - dy, y2 + dx)\n",
        "    squares.append([A, C2, D2, B])\n",
        "    squares.append([A, B, D1, C1])\n",
        "    return squares\n",
        "\n",
        "x1, y1 = map(int, input().split())\n",
        "\n",
        "x2, y2 = map(int, input().split())\n",
        "\n",
        "A = (x1, y1)\n",
        "B = (x2, y2)\n",
        "results = []\n",
        "squares = square_coordinates(A, B)\n",
        "\n",
        "for square in squares:\n",
        "  print(square[0], square[1], square[2], square[3])"
      ],
      "metadata": {
        "colab": {
          "base_uri": "https://localhost:8080/"
        },
        "id": "9iEdsm4_eB_s",
        "outputId": "1a5d2ab7-2384-4ccc-94d8-e6cfa0b5d658"
      },
      "execution_count": null,
      "outputs": [
        {
          "output_type": "stream",
          "name": "stdout",
          "text": [
            "2 4\n",
            "3 4\n",
            "(2, 4) (2, 5) (3, 5) (3, 4)\n",
            "(2, 4) (3, 4) (3, 3) (2, 3)\n"
          ]
        }
      ]
    },
    {
      "cell_type": "markdown",
      "source": [
        "# **Đảo chuỗi**\n"
      ],
      "metadata": {
        "id": "KhnXlUQPtpoA"
      }
    },
    {
      "cell_type": "code",
      "source": [
        "def f(s):\n",
        "    odd, even = \"\", \"\"\n",
        "    for i in range(len(s)):\n",
        "        if i % 2 == 0:\n",
        "            even += s[i]\n",
        "        else:\n",
        "            odd += s[i]\n",
        "    return sorted(odd) + sorted(even)\n",
        "\n",
        "t = int(input())\n",
        "for _ in range(t):\n",
        "    a = input()\n",
        "    b = input()\n",
        "    print(\"YES\" if f(a) == f(b) else \"NO\")\n",
        "\n",
        "\n"
      ],
      "metadata": {
        "id": "L4WWkff0vYFs"
      },
      "execution_count": null,
      "outputs": []
    },
    {
      "cell_type": "markdown",
      "source": [
        "# **is admissible overpay**"
      ],
      "metadata": {
        "id": "2PrI3-H9bfAS"
      }
    },
    {
      "cell_type": "code",
      "source": [
        "def get_percent(discount_str):\n",
        "  word = discount_str.split()\n",
        "  for i in word:\n",
        "    percent_index = i.find(\"%\")\n",
        "    if percent_index != -1:\n",
        "      number_part = i[:percent_index].strip()\n",
        "      if any(ky_tu.isalpha() for ky_tu in number_part) == False:\n",
        "        return float(number_part.replace(',', '.'))\n",
        "  return None\n",
        "\n",
        "prices = list(map(int, input().split()))\n",
        "\n",
        "announces = []\n",
        "for _ in range(len(prices)):\n",
        "    announces.append(input())\n",
        "\n",
        "money = int(input())\n",
        "#store_price = 0\n",
        "store_price = []\n",
        "for price, announce in zip(prices,announces):\n",
        "  percent = get_percent(announce)\n",
        "\n",
        "  if percent is not None:\n",
        "    if \"higher than in-store\" in announce:\n",
        "      price = price * (100 + percent) / 100\n",
        "      store_price.append(price)\n",
        "    elif \"lower than in-store\" in announce:\n",
        "      price = price * (100 - percent) / 100\n",
        "      store_price.append(price)\n",
        "\n",
        "if money - sum(prices) >= 0:\n",
        "  print(\"true\")\n",
        "else:\n",
        "  print(\"false\")"
      ],
      "metadata": {
        "id": "yCtqnLhZ9-ac"
      },
      "execution_count": null,
      "outputs": []
    },
    {
      "cell_type": "markdown",
      "source": [
        "# **Bình đi mua tablet**"
      ],
      "metadata": {
        "id": "TzTBrUePMAoh"
      }
    },
    {
      "cell_type": "code",
      "source": [
        "import math\n",
        "def count_choice(n):\n",
        "    count = 0\n",
        "    for length in range(1, int(n / math.sqrt(2)) + 1):\n",
        "        # Tính toán chiều rộng tương ứng\n",
        "        width = math.sqrt((n**2 - length**2))\n",
        "        # Kiểm tra nếu chiều rộng là một số nguyên dương\n",
        "        if width.is_integer() and width > 0:\n",
        "            count += 1\n",
        "    return count\n",
        "\n",
        "n = int(input())\n",
        "num = count_choice(n)\n",
        "print(num)\n"
      ],
      "metadata": {
        "colab": {
          "base_uri": "https://localhost:8080/"
        },
        "id": "esXuFzFbjtYR",
        "outputId": "a12bc6a2-347a-493f-f2cc-fd3a23737527"
      },
      "execution_count": null,
      "outputs": [
        {
          "output_type": "stream",
          "name": "stdout",
          "text": [
            "325\n",
            "7\n"
          ]
        }
      ]
    }
  ]
}