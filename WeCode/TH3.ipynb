{
  "nbformat": 4,
  "nbformat_minor": 0,
  "metadata": {
    "colab": {
      "provenance": []
    },
    "kernelspec": {
      "name": "python3",
      "display_name": "Python 3"
    },
    "language_info": {
      "name": "python"
    }
  },
  "cells": [
    {
      "cell_type": "markdown",
      "source": [
        "# **Tìm vị trí**"
      ],
      "metadata": {
        "id": "PZlJz3uymF3T"
      }
    },
    {
      "cell_type": "code",
      "execution_count": null,
      "metadata": {
        "id": "gGc6E-6kmCU1"
      },
      "outputs": [],
      "source": [
        "def search(arr, number):\n",
        "    l, r = 0, len(arr) - 1\n",
        "    result = -1\n",
        "\n",
        "    while l <= r:\n",
        "      mid = l + (r - l) // 2\n",
        "\n",
        "      if arr[mid] == number:\n",
        "          result = mid\n",
        "          l = mid + 1\n",
        "      elif arr[mid] < number:\n",
        "          l = mid + 1\n",
        "      else:\n",
        "          r = mid - 1\n",
        "\n",
        "    return result\n",
        "\n",
        "n = int(input())\n",
        "arr = list(map(int, input().split()))\n",
        "m = int(input())\n",
        "numbers = list(map(int, input().split()))\n",
        "\n",
        "for number in numbers:\n",
        "    print(search(arr, number))"
      ]
    },
    {
      "cell_type": "markdown",
      "source": [
        "# **lower bound**"
      ],
      "metadata": {
        "id": "x-eMTOtzmIvB"
      }
    },
    {
      "cell_type": "code",
      "source": [
        "from array import array\n",
        "def search(arr, number):\n",
        "    l, r = 0, len(arr) - 1\n",
        "    result = -1\n",
        "\n",
        "    while l <= r:\n",
        "      mid = l+(r-l) // 2\n",
        "\n",
        "      if arr[mid] == number:\n",
        "          result = mid\n",
        "          r = mid - 1\n",
        "      elif arr[mid] < number:\n",
        "          l = mid + 1\n",
        "      else:\n",
        "          r = mid - 1\n",
        "\n",
        "    return result\n",
        "\n",
        "n = int(input())\n",
        "arr = array('i', map(int, input().split()))\n",
        "m = int(input())\n",
        "numbers = list(map(int, input().split()))\n",
        "\n",
        "for number in numbers:\n",
        "    print(search(arr, number))"
      ],
      "metadata": {
        "id": "5kGApfAUmKOA"
      },
      "execution_count": null,
      "outputs": []
    },
    {
      "cell_type": "markdown",
      "source": [
        "# **Count phần giao**"
      ],
      "metadata": {
        "id": "kQYXVU7Soyqr"
      }
    },
    {
      "cell_type": "code",
      "source": [
        "m, n = map(int, input().split())\n",
        "system = set(map(int, input().split()))\n",
        "friends = set(map(int, input().split()))\n",
        "\n",
        "count=0\n",
        "for friend in friends:\n",
        "  if friend in system:\n",
        "    count+=1\n",
        "\n",
        "print(count)"
      ],
      "metadata": {
        "id": "Me2NzWrnrD_V"
      },
      "execution_count": null,
      "outputs": []
    },
    {
      "cell_type": "markdown",
      "source": [
        "# **k số gần nhất**"
      ],
      "metadata": {
        "id": "cq7ee8t1Msgt"
      }
    },
    {
      "cell_type": "code",
      "source": [
        "def find(n, x, k, arr):\n",
        "  left, right = 0, len(arr) - 1\n",
        "  while right - left >= k:\n",
        "      if abs(arr[left] - x) > abs(arr[right] - x):\n",
        "          left += 1\n",
        "      else:\n",
        "          right -= 1\n",
        "\n",
        "  return arr[left:right + 1]\n",
        "\n",
        "n = int(input())\n",
        "arr = [int(x) for x in input().split()]\n",
        "k, x = map(int, input().split())\n",
        "\n",
        "res = find(n, x, k, arr)\n",
        "print(*res)"
      ],
      "metadata": {
        "id": "eAyDeGggMqs3",
        "colab": {
          "base_uri": "https://localhost:8080/"
        },
        "outputId": "98e58d67-9fa7-40a0-a6c1-7c2b9b6be6cb"
      },
      "execution_count": null,
      "outputs": [
        {
          "output_type": "stream",
          "name": "stdout",
          "text": [
            "5\n",
            "1 2 4 7 10\n",
            "3 4\n",
            "1 2 4\n"
          ]
        }
      ]
    },
    {
      "cell_type": "markdown",
      "source": [
        "# **k số gần nhất (2)**"
      ],
      "metadata": {
        "id": "kw8g2-Zhm2w9"
      }
    },
    {
      "cell_type": "code",
      "source": [
        "from bisect import bisect_left\n",
        "\n",
        "def find_closest_numbers(arr, k, x):\n",
        "    left = bisect_left(arr, x) - 1\n",
        "    right = left + 1\n",
        "    result = []\n",
        "    while k > 0:\n",
        "        if left >= 0 and (right >= len(arr) or abs(arr[left] - x) <= abs(arr[right] - x)):\n",
        "            result.append(arr[left])\n",
        "            left -= 1\n",
        "        else:\n",
        "            result.append(arr[right])\n",
        "            right += 1\n",
        "        k -= 1\n",
        "    return result\n",
        "\n",
        "n = int(input())\n",
        "arr = list(map(int, input().split()))\n",
        "while True:\n",
        "    try:\n",
        "        k, x = map(int, input().split())\n",
        "        closest_numbers = find_closest_numbers(arr, k, x)\n",
        "        print(min(closest_numbers), max(closest_numbers))\n",
        "    except ValueError:\n",
        "        break"
      ],
      "metadata": {
        "id": "e1J-rBdmwwy9"
      },
      "execution_count": null,
      "outputs": []
    }
  ]
}