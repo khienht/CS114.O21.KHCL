{
  "nbformat": 4,
  "nbformat_minor": 0,
  "metadata": {
    "colab": {
      "provenance": []
    },
    "kernelspec": {
      "name": "python3",
      "display_name": "Python 3"
    },
    "language_info": {
      "name": "python"
    }
  },
  "cells": [
    {
      "cell_type": "markdown",
      "source": [
        "# **Lô Tô**"
      ],
      "metadata": {
        "id": "VSRLnV91Iik0"
      }
    },
    {
      "cell_type": "code",
      "source": [
        "def check(table):\n",
        "    for row in table:\n",
        "        if all(cell == 1 for cell in row): #hàng\n",
        "            return True\n",
        "    for col in range(3):\n",
        "        if all(table[row][col] == 1 for row in range(3)): #cột\n",
        "            return True\n",
        "    if all(table[i][i] == 1 for i in range(3)) or all(table[i][2-i] == 1 for i in range(3)): #đường chéo\n",
        "        return True\n",
        "    return False\n",
        "\n",
        "table = [list(map(int, input().split())) for _ in range(3)]\n",
        "N = int(input())\n",
        "\n",
        "marked_tbl = [[0] * 3 for _ in range(3)]\n",
        "\n",
        "for _ in range(N):\n",
        "    num = int(input())\n",
        "    for i in range(3):\n",
        "        for j in range(3):\n",
        "            if table[i][j] == num:\n",
        "                marked_tbl[i][j] = 1\n",
        "\n",
        "if check(marked_tbl):\n",
        "    print(\"Yes\")\n",
        "else:\n",
        "    print(\"No\")"
      ],
      "metadata": {
        "id": "Og5Acl70Ajgf"
      },
      "execution_count": null,
      "outputs": []
    },
    {
      "cell_type": "markdown",
      "source": [
        "# **Trạm ga**"
      ],
      "metadata": {
        "id": "eFyRUqDmIpCR"
      }
    },
    {
      "cell_type": "code",
      "source": [
        "table = [list(map(str, input())) for _ in range(2)]\n",
        "if (table[0][0] == '#' and table[1][0] == '#') or (table[0][0] == '#' and table[0][1] == '#') or (table[0][1] == '#' and table[1][1] == '#') or (table[1][1] == '#' and table[1][0] == '#'):\n",
        "  print(\"Yes\")\n",
        "else:\n",
        "  print(\"No\")"
      ],
      "metadata": {
        "id": "xgCF5_eJEl7n"
      },
      "execution_count": null,
      "outputs": []
    },
    {
      "cell_type": "markdown",
      "source": [
        "# **Hình vuông**"
      ],
      "metadata": {
        "id": "5eP7IDq-a7kY"
      }
    },
    {
      "cell_type": "code",
      "source": [
        "def square_coordinates(A, B):\n",
        "    squares = []\n",
        "    x1, y1 = A\n",
        "    x2, y2 = B\n",
        "\n",
        "    dx = x2 - x1\n",
        "    dy = y2 - y1\n",
        "\n",
        "    C1 = (x1 + dy, y1 - dx)\n",
        "    D1 = (x2 + dy, y2 - dx)\n",
        "    C2 = (x1 - dy, y1 + dx)\n",
        "    D2 = (x2 - dy, y2 + dx)\n",
        "    squares.append([A, C2, D2, B])\n",
        "    squares.append([A, B, D1, C1])\n",
        "    return squares\n",
        "\n",
        "x1, y1 = map(int, input().split())\n",
        "\n",
        "x2, y2 = map(int, input().split())\n",
        "\n",
        "A = (x1, y1)\n",
        "B = (x2, y2)\n",
        "results = []\n",
        "squares = square_coordinates(A, B)\n",
        "\n",
        "for square in squares:\n",
        "  print(square[0], square[1], square[2], square[3])"
      ],
      "metadata": {
        "id": "9iEdsm4_eB_s"
      },
      "execution_count": null,
      "outputs": []
    },
    {
      "cell_type": "markdown",
      "source": [
        "# **Mua tablet**"
      ],
      "metadata": {
        "id": "TzTBrUePMAoh"
      }
    },
    {
      "cell_type": "code",
      "source": [
        "import math\n",
        "def count_choice(n):\n",
        "    count = 0\n",
        "    for length in range(1, int(n / math.sqrt(2)) + 1):\n",
        "        width = math.sqrt((n**2 - length**2))\n",
        "        if width.is_integer() and width > 0:\n",
        "            count += 1\n",
        "    return count\n",
        "\n",
        "n = int(input())\n",
        "num = count_choice(n)\n",
        "print(num)\n"
      ],
      "metadata": {
        "id": "esXuFzFbjtYR"
      },
      "execution_count": null,
      "outputs": []
    }
  ]
}